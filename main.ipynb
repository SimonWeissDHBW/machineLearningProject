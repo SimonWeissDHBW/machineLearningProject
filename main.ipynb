{
 "cells": [
  {
   "attachments": {},
   "cell_type": "markdown",
   "metadata": {},
   "source": [
    "# Breast Cancer Analysis with Support Vector Machine\n",
    "\n",
    "A simple script using SVM for calculating if a breast cancer tumor is malignant or begnin\n",
    "\n",
    "### Imports"
   ]
  },
  {
   "cell_type": "code",
   "execution_count": 10,
   "metadata": {},
   "outputs": [],
   "source": [
    "import sklearn\n",
    "import numpy\n",
    "import time\n",
    "from sklearn import svm\n",
    "from sklearn import metrics\n",
    "from sklearn.model_selection import GridSearchCV\n",
    "from pandas import read_csv \n",
    "from multiprocessing import Pool\n",
    "import matplotlib.pyplot as plt\n",
    "from sklearn.preprocessing import StandardScaler\n",
    "import seaborn as sns"
   ]
  },
  {
   "attachments": {},
   "cell_type": "markdown",
   "metadata": {},
   "source": [
    "### Config Parameters"
   ]
  },
  {
   "cell_type": "code",
   "execution_count": 11,
   "metadata": {},
   "outputs": [],
   "source": [
    "MULTIPROCESSING = False\n",
    "LOOP_COUNT = 10\n",
    "SHOW_PLOT = False\n",
    "MULTIPLIER = 10\n",
    "LINE = \"---------------------------------------------------\"\n",
    "CACHE_SIZE = 12000\n",
    "\n",
    "\n",
    "KERNEL_LIST = ['rbf', 'poly', 'sigmoid']\n",
    "C_LIST = [0.1]\n",
    "GAMMA_LIST = ['scale', 'auto']\n",
    "DEGREE_LIST = [1, 2, 3, 4, 5, 6, 7, 8, 9, 10]"
   ]
  },
  {
   "attachments": {},
   "cell_type": "markdown",
   "metadata": {},
   "source": [
    "### print_pretty()\n",
    "Function for printing output with lines inbetween."
   ]
  },
  {
   "cell_type": "code",
   "execution_count": 12,
   "metadata": {},
   "outputs": [],
   "source": [
    "def print_pretty(*args):\n",
    "    for arg in args:\n",
    "        print(arg)\n",
    "    print(LINE)"
   ]
  },
  {
   "attachments": {},
   "cell_type": "markdown",
   "metadata": {},
   "source": [
    "### load_data()\n",
    "Function for loading data from a csv and saving it in a data-frame for further use."
   ]
  },
  {
   "cell_type": "code",
   "execution_count": 13,
   "metadata": {},
   "outputs": [],
   "source": [
    "def load_data():\n",
    "    data_frame = read_csv('breast-cancer.csv')\n",
    "\n",
    "    data = data_frame.drop(labels = ['diagnosis'], axis = 1)\n",
    "    data = data.drop(labels = \"id\", axis = 1)                       # Dropping id column, because it is not needed\n",
    "    target = data_frame['diagnosis'].replace({'M': 1, 'B': 0})\n",
    "\n",
    "    # Standardize data\n",
    "\n",
    "    # target = scaler.fit_transform(target)\n",
    "\n",
    "    return data_frame, data, target"
   ]
  },
  {
   "attachments": {},
   "cell_type": "markdown",
   "metadata": {},
   "source": [
    "### find_best_params()\n",
    "Uses GridSearchCV for finding the best parameters for the SVM (Hyper-Parameter-Tuning)"
   ]
  },
  {
   "cell_type": "code",
   "execution_count": 14,
   "metadata": {},
   "outputs": [],
   "source": [
    "def find_best_params(data, target):\n",
    "    grid_params = {\n",
    "        'kernel': KERNEL_LIST, \n",
    "        'C': C_LIST, \n",
    "        'gamma':GAMMA_LIST,\n",
    "        'degree': DEGREE_LIST}\n",
    "    clf = GridSearchCV(svm.SVC(),grid_params, n_jobs=-1, verbose=3)\n",
    "\n",
    "    data_train, data_test, target_train, target_test = sklearn.model_selection.train_test_split(data, target, test_size=0.25, shuffle=True)\n",
    "    clf.fit(data_train, target_train)\n",
    "\n",
    "    return clf.best_params_"
   ]
  },
  {
   "attachments": {},
   "cell_type": "markdown",
   "metadata": {},
   "source": [
    "### plot_data()\n",
    "Function for ploting the first 5 columns of the given data-frame."
   ]
  },
  {
   "cell_type": "code",
   "execution_count": 15,
   "metadata": {},
   "outputs": [],
   "source": [
    "def plot_data(data_frame):\n",
    "    if (SHOW_PLOT):\n",
    "        sns.pairplot(                   # Plotting data of first 5 columns\n",
    "            data_frame, \n",
    "            hue=\"diagnosis\", \n",
    "            vars=[\"radius_mean\", \n",
    "                \"texture_mean\", \n",
    "                \"perimeter_mean\", \n",
    "                \"area_mean\", \n",
    "                \"smoothness_mean\"])        \n",
    "        plt.show()                      # Showing plot"
   ]
  },
  {
   "attachments": {},
   "cell_type": "markdown",
   "metadata": {},
   "source": [
    "### run_svm()\n",
    "Calculates the accuracy with a SVM for the given parameters"
   ]
  },
  {
   "cell_type": "code",
   "execution_count": 16,
   "metadata": {},
   "outputs": [],
   "source": [
    "def run_svm(data, target, default_acc = numpy.array([0]), dropped_column = None, return_mean = False, multiplier = 1, params = None):\n",
    "\n",
    "    # scaler = StandardScaler()\n",
    "    # scaler.fit(data)\n",
    "    # data = scaler.fit_transform(data)\n",
    "\n",
    "    acc_array = numpy.empty(LOOP_COUNT * multiplier)\n",
    "    for count, value in enumerate(acc_array):\n",
    "        data_train, data_test, target_train, target_test = sklearn.model_selection.train_test_split(data, target, test_size=0.25, shuffle=True)\n",
    "\n",
    "        clf = svm.SVC(C = params['C'], kernel = params['kernel'], cache_size = CACHE_SIZE)\n",
    "\n",
    "        clf.fit(data_train, target_train)\n",
    "\n",
    "        target_pred = clf.predict(data_test)\n",
    "\n",
    "        acc_array[count] = metrics.accuracy_score(target_test, target_pred)\n",
    "\n",
    "    if (return_mean):\n",
    "        # print(acc_array)\n",
    "        return acc_array.mean()\n",
    "    else:\n",
    "        if (acc_array.mean() >= default_acc.mean()):\n",
    "            return None\n",
    "        else:\n",
    "            return dropped_column"
   ]
  },
  {
   "attachments": {},
   "cell_type": "markdown",
   "metadata": {},
   "source": [
    "### drop_columns()\n",
    "Tests the accuracy with one feature dropped for all features. If the accuracy is lower than the default one the column is added to an array, which is returned at the end."
   ]
  },
  {
   "cell_type": "code",
   "execution_count": 17,
   "metadata": {},
   "outputs": [],
   "source": [
    "def drop_columns(data, target, default_acc, best_params):\n",
    "\n",
    "    # Create necessary arrays\n",
    "    feature_arr = []                                # Array for multiprocessing\n",
    "    dropped_columns = []                            # Array for dropped columns\n",
    "\n",
    "    for counter, column in enumerate(data):\n",
    "        if(MULTIPROCESSING):\n",
    "            feature_arr.append((data.drop(labels = [column], axis = 1), target,\n",
    "                default_acc, column, False, 1, best_params))\n",
    "        else:\n",
    "            dropped_columns.append(run_svm(data.drop(labels = [column], axis = 1), target, default_acc, column, False, 1, best_params))\n",
    "\n",
    "    if(MULTIPROCESSING):\n",
    "        with Pool() as p:\n",
    "            dropped_columns.append(p.starmap(run_svm, feature_arr))\n",
    "            dropped_columns = dropped_columns[0]\n",
    "\n",
    "    dropped_columns = [x for x in dropped_columns if x is not None]\n",
    "\n",
    "    return dropped_columns"
   ]
  },
  {
   "attachments": {},
   "cell_type": "markdown",
   "metadata": {},
   "source": [
    "### Main Function\n",
    "Runs all necessary code"
   ]
  },
  {
   "cell_type": "code",
   "execution_count": 18,
   "metadata": {},
   "outputs": [
    {
     "name": "stdout",
     "output_type": "stream",
     "text": [
      "\n",
      "\n",
      "\n",
      "Starting\n",
      "---------------------------------------------------\n",
      "Fitting 5 folds for each of 60 candidates, totalling 300 fits\n"
     ]
    }
   ],
   "source": [
    "if(__name__ == \"__main__\"):\n",
    "\n",
    "    begin = time.time()\n",
    "\n",
    "    print_pretty(\"\\n\\n\\nStarting\")\n",
    "\n",
    "    # Getting data\n",
    "    data_frame, data, target = load_data()                          # Getting data from csv file\n",
    "\n",
    "    # Plot example data from first 5 columns\n",
    "    plot_data(data_frame)\n",
    "\n",
    "    best_params = find_best_params(data, target)                    # Finding best params for SVM with GridSearchCV (hyperparameter tuning)\n",
    "    print_pretty(best_params)\n",
    "        \n",
    "    default_acc = run_svm(                                          # Getting accuracy with all features\n",
    "        data,\n",
    "        target,\n",
    "        return_mean = True, \n",
    "        multiplier = MULTIPLIER, \n",
    "        params = best_params)\n",
    "\n",
    "    print_pretty(\n",
    "        \"Accuracy with all features: \", \n",
    "        default_acc)\n",
    "\n",
    "    dropped_columns = drop_columns(                                 # Getting columns to be dropped for final accuracy\n",
    "        data,\n",
    "        target, \n",
    "        default_acc, \n",
    "        best_params)\n",
    "\n",
    "    print_pretty(\"Dropped Columns: \", dropped_columns)\n",
    "\n",
    "    final_data = data.drop(labels = dropped_columns, axis = 1)\n",
    "    # final_data = numpy.delete(data, dropped_columns, axis = 1)\n",
    "\n",
    "    final_acc = run_svm(                                            # Getting accuracy with dropped features\n",
    "        final_data, \n",
    "        target, \n",
    "        return_mean = True, \n",
    "        multiplier = MULTIPLIER, \n",
    "        params = best_params)\n",
    "\n",
    "    print_pretty(\"Accuracy with dropped features: \", final_acc)\n",
    "\n",
    "    end = time.time()\n",
    "    print_pretty(\"Done. Time Taken: \", end - begin)"
   ]
  }
 ],
 "metadata": {
  "kernelspec": {
   "display_name": "sklearn",
   "language": "python",
   "name": "python3"
  },
  "language_info": {
   "codemirror_mode": {
    "name": "ipython",
    "version": 3
   },
   "file_extension": ".py",
   "mimetype": "text/x-python",
   "name": "python",
   "nbconvert_exporter": "python",
   "pygments_lexer": "ipython3",
   "version": "3.10.8"
  },
  "orig_nbformat": 4,
  "vscode": {
   "interpreter": {
    "hash": "5fdf09c462ec11b774732c716808da5c932ffb131b7cde2f251fc2f8f7d50720"
   }
  }
 },
 "nbformat": 4,
 "nbformat_minor": 2
}
